{
  "nbformat": 4,
  "nbformat_minor": 0,
  "metadata": {
    "colab": {
      "provenance": [],
      "authorship_tag": "ABX9TyPqj8XbAG7APAaHiOUwvTDc",
      "include_colab_link": true
    },
    "kernelspec": {
      "name": "python3",
      "display_name": "Python 3"
    },
    "language_info": {
      "name": "python"
    }
  },
  "cells": [
    {
      "cell_type": "markdown",
      "metadata": {
        "id": "view-in-github",
        "colab_type": "text"
      },
      "source": [
        "<a href=\"https://colab.research.google.com/github/kalyanram0542/mypython/blob/master/comparing_classifiers.ipynb\" target=\"_parent\"><img src=\"https://colab.research.google.com/assets/colab-badge.svg\" alt=\"Open In Colab\"/></a>"
      ]
    },
    {
      "cell_type": "markdown",
      "source": [
        "# Comparing Classifiers for Building Classification Models"
      ],
      "metadata": {
        "id": "4Ga4GvoArsoQ"
      }
    },
    {
      "cell_type": "code",
      "execution_count": 1,
      "metadata": {
        "colab": {
          "base_uri": "https://localhost:8080/"
        },
        "id": "en2O_FmHrmyN",
        "outputId": "1b99767b-14c4-495b-ba10-ddd4d40e68ae"
      },
      "outputs": [
        {
          "output_type": "stream",
          "name": "stdout",
          "text": [
            "Looking in indexes: https://pypi.org/simple, https://us-python.pkg.dev/colab-wheels/public/simple/\n",
            "Collecting sklearn\n",
            "  Downloading sklearn-0.0.post1.tar.gz (3.6 kB)\n",
            "  Preparing metadata (setup.py) ... \u001b[?25l\u001b[?25hdone\n",
            "Building wheels for collected packages: sklearn\n",
            "  Building wheel for sklearn (setup.py) ... \u001b[?25l\u001b[?25hdone\n",
            "  Created wheel for sklearn: filename=sklearn-0.0.post1-py3-none-any.whl size=2955 sha256=e26fa9f67f61e8bf67dfeaac093004324c4cccc22d5d43d96b4217a70ad49d4c\n",
            "  Stored in directory: /root/.cache/pip/wheels/f8/e0/3d/9d0c2020c44a519b9f02ab4fa6d2a4a996c98d79ab2f569fa1\n",
            "Successfully built sklearn\n",
            "Installing collected packages: sklearn\n",
            "Successfully installed sklearn-0.0.post1\n"
          ]
        }
      ],
      "source": [
        "!pip install sklearn"
      ]
    },
    {
      "cell_type": "code",
      "source": [
        "from sklearn.datasets import make_classification"
      ],
      "metadata": {
        "id": "WldT_8wSsiOP"
      },
      "execution_count": 2,
      "outputs": []
    },
    {
      "cell_type": "code",
      "source": [
        "X, Y= make_classification(n_samples=1000, n_classes=2, n_features=5, n_redundant=0, random_state=1)"
      ],
      "metadata": {
        "id": "e69Ok70PsiGn"
      },
      "execution_count": 3,
      "outputs": []
    },
    {
      "cell_type": "code",
      "source": [
        "X.shape"
      ],
      "metadata": {
        "colab": {
          "base_uri": "https://localhost:8080/"
        },
        "id": "g2ezZk_vsiC7",
        "outputId": "3e0e060d-ba6b-4616-de82-0dfddca0e896"
      },
      "execution_count": 4,
      "outputs": [
        {
          "output_type": "execute_result",
          "data": {
            "text/plain": [
              "(1000, 5)"
            ]
          },
          "metadata": {},
          "execution_count": 4
        }
      ]
    },
    {
      "cell_type": "code",
      "source": [
        "Y.shape"
      ],
      "metadata": {
        "colab": {
          "base_uri": "https://localhost:8080/"
        },
        "id": "qaTTv0sEsiAT",
        "outputId": "75d8f89f-a847-4b47-adbb-cf2111a683b1"
      },
      "execution_count": 5,
      "outputs": [
        {
          "output_type": "execute_result",
          "data": {
            "text/plain": [
              "(1000,)"
            ]
          },
          "metadata": {},
          "execution_count": 5
        }
      ]
    },
    {
      "cell_type": "markdown",
      "source": [
        "Data Split(80/20)"
      ],
      "metadata": {
        "id": "tzoSRI7-uJeH"
      }
    },
    {
      "cell_type": "code",
      "source": [
        "from sklearn.model_selection import train_test_split"
      ],
      "metadata": {
        "id": "r8ERjsudsh9i"
      },
      "execution_count": 6,
      "outputs": []
    },
    {
      "cell_type": "code",
      "source": [
        "x_train, x_test, y_train, y_test = train_test_split(X,Y,test_size=0.2)"
      ],
      "metadata": {
        "id": "WTRq8YRXsh61"
      },
      "execution_count": 7,
      "outputs": []
    },
    {
      "cell_type": "code",
      "source": [
        "x_train.shape, y_train.shape"
      ],
      "metadata": {
        "colab": {
          "base_uri": "https://localhost:8080/"
        },
        "id": "GV44h79hsh4Y",
        "outputId": "b23cefbd-1233-4e11-d7b8-2e3cf7da7f89"
      },
      "execution_count": 8,
      "outputs": [
        {
          "output_type": "execute_result",
          "data": {
            "text/plain": [
              "((800, 5), (800,))"
            ]
          },
          "metadata": {},
          "execution_count": 8
        }
      ]
    },
    {
      "cell_type": "code",
      "source": [
        "x_test.shape, y_test.shape"
      ],
      "metadata": {
        "colab": {
          "base_uri": "https://localhost:8080/"
        },
        "id": "ItYleTMHvitr",
        "outputId": "f8eda7d1-e0cd-4b2c-a44f-4af1d276b77e"
      },
      "execution_count": 9,
      "outputs": [
        {
          "output_type": "execute_result",
          "data": {
            "text/plain": [
              "((200, 5), (200,))"
            ]
          },
          "metadata": {},
          "execution_count": 9
        }
      ]
    },
    {
      "cell_type": "markdown",
      "source": [
        "Import modules"
      ],
      "metadata": {
        "id": "_7g5s5GmxzbQ"
      }
    },
    {
      "cell_type": "code",
      "source": [
        "import pandas as pd\n",
        "\n",
        "from sklearn.neural_network import MLPClassifier\n",
        "from sklearn.neighbors import KNeighborsClassifier\n",
        "from sklearn.svm import SVC\n",
        "from sklearn.gaussian_process import GaussianProcessClassifier\n",
        "from sklearn.ensemble import GradientBoostingClassifier\n",
        "from sklearn.gaussian_process.kernels import RBF\n",
        "from sklearn.tree import DecisionTreeClassifier\n",
        "from sklearn.ensemble import ExtraTreesClassifier\n",
        "from sklearn.ensemble import RandomForestClassifier, AdaBoostClassifier\n",
        "from sklearn.naive_bayes import GaussianNB\n",
        "from sklearn.discriminant_analysis import QuadraticDiscriminantAnalysis\n",
        "from sklearn.linear_model import SGDClassifier"
      ],
      "metadata": {
        "id": "TQeOdHj9viqJ"
      },
      "execution_count": 10,
      "outputs": []
    },
    {
      "cell_type": "code",
      "source": [
        "names = [\"Nearest_Neighbors\", \"Linear_SVM\", \"Polynomial_SVM\", \"RBF_SVM\", \"Gaussian_Process\",\n",
        "         \"Gradient_Boosting\", \"Decision_Tree\", \"Extra_Trees\", \"Random_Forest\", \"Neural_Net\", \"AdaBoost\",\n",
        "         \"Naive_Bayes\", \"QDA\", \"SGD\"]\n",
        "\n",
        "classifiers = [\n",
        "    KNeighborsClassifier(3),\n",
        "    SVC(kernel=\"linear\", C=0.025),\n",
        "    SVC(kernel=\"poly\", degree=3, C=0.025),\n",
        "    SVC(kernel=\"rbf\", C=1, gamma=2),\n",
        "    GaussianProcessClassifier(1.0 * RBF(1.0)),\n",
        "    GradientBoostingClassifier(n_estimators=100, learning_rate=1.0),\n",
        "    DecisionTreeClassifier(max_depth=5),\n",
        "    ExtraTreesClassifier(n_estimators=10, min_samples_split=2),\n",
        "    RandomForestClassifier(max_depth=5, n_estimators=100),\n",
        "    MLPClassifier(alpha=1, max_iter=1000),\n",
        "    AdaBoostClassifier(n_estimators=100),\n",
        "    GaussianNB(),\n",
        "    QuadraticDiscriminantAnalysis(),\n",
        "    SGDClassifier(loss=\"hinge\", penalty=\"l2\")]"
      ],
      "metadata": {
        "id": "FJnzbxsSvinb"
      },
      "execution_count": 11,
      "outputs": []
    },
    {
      "cell_type": "markdown",
      "source": [
        "Build Model, Apply Model on Test Data & Record Accuracy Scores"
      ],
      "metadata": {
        "id": "eKZlw8IwzLIn"
      }
    },
    {
      "cell_type": "code",
      "source": [
        "scores = []\n",
        "for name, clf in zip(names, classifiers):\n",
        "    clf.fit(x_train, y_train)\n",
        "    score = clf.score(x_test, y_test)\n",
        "    scores.append(score)"
      ],
      "metadata": {
        "id": "0WQJPftVvikf"
      },
      "execution_count": 13,
      "outputs": []
    },
    {
      "cell_type": "code",
      "source": [
        "scores"
      ],
      "metadata": {
        "colab": {
          "base_uri": "https://localhost:8080/"
        },
        "id": "K0XeCtHLvihD",
        "outputId": "635f7fdc-13b8-4454-9736-b1add30cdd6d"
      },
      "execution_count": 14,
      "outputs": [
        {
          "output_type": "execute_result",
          "data": {
            "text/plain": [
              "[0.82,\n",
              " 0.82,\n",
              " 0.74,\n",
              " 0.82,\n",
              " 0.84,\n",
              " 0.83,\n",
              " 0.835,\n",
              " 0.835,\n",
              " 0.835,\n",
              " 0.835,\n",
              " 0.845,\n",
              " 0.83,\n",
              " 0.84,\n",
              " 0.825]"
            ]
          },
          "metadata": {},
          "execution_count": 14
        }
      ]
    },
    {
      "cell_type": "markdown",
      "source": [
        "### Analysis of Model Performance"
      ],
      "metadata": {
        "id": "NbLJl0xhzRLt"
      }
    },
    {
      "cell_type": "code",
      "source": [
        "import pandas as pd\n",
        "import seaborn as sns"
      ],
      "metadata": {
        "id": "hq_qqnCnvid1"
      },
      "execution_count": 15,
      "outputs": []
    },
    {
      "cell_type": "code",
      "source": [
        "df = pd.DataFrame()\n",
        "df['name'] = names\n",
        "df['score'] = scores\n",
        "df"
      ],
      "metadata": {
        "colab": {
          "base_uri": "https://localhost:8080/",
          "height": 488
        },
        "id": "QGZPmoMnviae",
        "outputId": "1a305261-8eaa-47e6-f1cb-898e443a88a9"
      },
      "execution_count": 16,
      "outputs": [
        {
          "output_type": "execute_result",
          "data": {
            "text/plain": [
              "                 name  score\n",
              "0   Nearest_Neighbors  0.820\n",
              "1          Linear_SVM  0.820\n",
              "2      Polynomial_SVM  0.740\n",
              "3             RBF_SVM  0.820\n",
              "4    Gaussian_Process  0.840\n",
              "5   Gradient_Boosting  0.830\n",
              "6       Decision_Tree  0.835\n",
              "7         Extra_Trees  0.835\n",
              "8       Random_Forest  0.835\n",
              "9          Neural_Net  0.835\n",
              "10           AdaBoost  0.845\n",
              "11        Naive_Bayes  0.830\n",
              "12                QDA  0.840\n",
              "13                SGD  0.825"
            ],
            "text/html": [
              "\n",
              "  <div id=\"df-bf63865f-13e2-4c5d-b8aa-13155cb8f38b\">\n",
              "    <div class=\"colab-df-container\">\n",
              "      <div>\n",
              "<style scoped>\n",
              "    .dataframe tbody tr th:only-of-type {\n",
              "        vertical-align: middle;\n",
              "    }\n",
              "\n",
              "    .dataframe tbody tr th {\n",
              "        vertical-align: top;\n",
              "    }\n",
              "\n",
              "    .dataframe thead th {\n",
              "        text-align: right;\n",
              "    }\n",
              "</style>\n",
              "<table border=\"1\" class=\"dataframe\">\n",
              "  <thead>\n",
              "    <tr style=\"text-align: right;\">\n",
              "      <th></th>\n",
              "      <th>name</th>\n",
              "      <th>score</th>\n",
              "    </tr>\n",
              "  </thead>\n",
              "  <tbody>\n",
              "    <tr>\n",
              "      <th>0</th>\n",
              "      <td>Nearest_Neighbors</td>\n",
              "      <td>0.820</td>\n",
              "    </tr>\n",
              "    <tr>\n",
              "      <th>1</th>\n",
              "      <td>Linear_SVM</td>\n",
              "      <td>0.820</td>\n",
              "    </tr>\n",
              "    <tr>\n",
              "      <th>2</th>\n",
              "      <td>Polynomial_SVM</td>\n",
              "      <td>0.740</td>\n",
              "    </tr>\n",
              "    <tr>\n",
              "      <th>3</th>\n",
              "      <td>RBF_SVM</td>\n",
              "      <td>0.820</td>\n",
              "    </tr>\n",
              "    <tr>\n",
              "      <th>4</th>\n",
              "      <td>Gaussian_Process</td>\n",
              "      <td>0.840</td>\n",
              "    </tr>\n",
              "    <tr>\n",
              "      <th>5</th>\n",
              "      <td>Gradient_Boosting</td>\n",
              "      <td>0.830</td>\n",
              "    </tr>\n",
              "    <tr>\n",
              "      <th>6</th>\n",
              "      <td>Decision_Tree</td>\n",
              "      <td>0.835</td>\n",
              "    </tr>\n",
              "    <tr>\n",
              "      <th>7</th>\n",
              "      <td>Extra_Trees</td>\n",
              "      <td>0.835</td>\n",
              "    </tr>\n",
              "    <tr>\n",
              "      <th>8</th>\n",
              "      <td>Random_Forest</td>\n",
              "      <td>0.835</td>\n",
              "    </tr>\n",
              "    <tr>\n",
              "      <th>9</th>\n",
              "      <td>Neural_Net</td>\n",
              "      <td>0.835</td>\n",
              "    </tr>\n",
              "    <tr>\n",
              "      <th>10</th>\n",
              "      <td>AdaBoost</td>\n",
              "      <td>0.845</td>\n",
              "    </tr>\n",
              "    <tr>\n",
              "      <th>11</th>\n",
              "      <td>Naive_Bayes</td>\n",
              "      <td>0.830</td>\n",
              "    </tr>\n",
              "    <tr>\n",
              "      <th>12</th>\n",
              "      <td>QDA</td>\n",
              "      <td>0.840</td>\n",
              "    </tr>\n",
              "    <tr>\n",
              "      <th>13</th>\n",
              "      <td>SGD</td>\n",
              "      <td>0.825</td>\n",
              "    </tr>\n",
              "  </tbody>\n",
              "</table>\n",
              "</div>\n",
              "      <button class=\"colab-df-convert\" onclick=\"convertToInteractive('df-bf63865f-13e2-4c5d-b8aa-13155cb8f38b')\"\n",
              "              title=\"Convert this dataframe to an interactive table.\"\n",
              "              style=\"display:none;\">\n",
              "        \n",
              "  <svg xmlns=\"http://www.w3.org/2000/svg\" height=\"24px\"viewBox=\"0 0 24 24\"\n",
              "       width=\"24px\">\n",
              "    <path d=\"M0 0h24v24H0V0z\" fill=\"none\"/>\n",
              "    <path d=\"M18.56 5.44l.94 2.06.94-2.06 2.06-.94-2.06-.94-.94-2.06-.94 2.06-2.06.94zm-11 1L8.5 8.5l.94-2.06 2.06-.94-2.06-.94L8.5 2.5l-.94 2.06-2.06.94zm10 10l.94 2.06.94-2.06 2.06-.94-2.06-.94-.94-2.06-.94 2.06-2.06.94z\"/><path d=\"M17.41 7.96l-1.37-1.37c-.4-.4-.92-.59-1.43-.59-.52 0-1.04.2-1.43.59L10.3 9.45l-7.72 7.72c-.78.78-.78 2.05 0 2.83L4 21.41c.39.39.9.59 1.41.59.51 0 1.02-.2 1.41-.59l7.78-7.78 2.81-2.81c.8-.78.8-2.07 0-2.86zM5.41 20L4 18.59l7.72-7.72 1.47 1.35L5.41 20z\"/>\n",
              "  </svg>\n",
              "      </button>\n",
              "      \n",
              "  <style>\n",
              "    .colab-df-container {\n",
              "      display:flex;\n",
              "      flex-wrap:wrap;\n",
              "      gap: 12px;\n",
              "    }\n",
              "\n",
              "    .colab-df-convert {\n",
              "      background-color: #E8F0FE;\n",
              "      border: none;\n",
              "      border-radius: 50%;\n",
              "      cursor: pointer;\n",
              "      display: none;\n",
              "      fill: #1967D2;\n",
              "      height: 32px;\n",
              "      padding: 0 0 0 0;\n",
              "      width: 32px;\n",
              "    }\n",
              "\n",
              "    .colab-df-convert:hover {\n",
              "      background-color: #E2EBFA;\n",
              "      box-shadow: 0px 1px 2px rgba(60, 64, 67, 0.3), 0px 1px 3px 1px rgba(60, 64, 67, 0.15);\n",
              "      fill: #174EA6;\n",
              "    }\n",
              "\n",
              "    [theme=dark] .colab-df-convert {\n",
              "      background-color: #3B4455;\n",
              "      fill: #D2E3FC;\n",
              "    }\n",
              "\n",
              "    [theme=dark] .colab-df-convert:hover {\n",
              "      background-color: #434B5C;\n",
              "      box-shadow: 0px 1px 3px 1px rgba(0, 0, 0, 0.15);\n",
              "      filter: drop-shadow(0px 1px 2px rgba(0, 0, 0, 0.3));\n",
              "      fill: #FFFFFF;\n",
              "    }\n",
              "  </style>\n",
              "\n",
              "      <script>\n",
              "        const buttonEl =\n",
              "          document.querySelector('#df-bf63865f-13e2-4c5d-b8aa-13155cb8f38b button.colab-df-convert');\n",
              "        buttonEl.style.display =\n",
              "          google.colab.kernel.accessAllowed ? 'block' : 'none';\n",
              "\n",
              "        async function convertToInteractive(key) {\n",
              "          const element = document.querySelector('#df-bf63865f-13e2-4c5d-b8aa-13155cb8f38b');\n",
              "          const dataTable =\n",
              "            await google.colab.kernel.invokeFunction('convertToInteractive',\n",
              "                                                     [key], {});\n",
              "          if (!dataTable) return;\n",
              "\n",
              "          const docLinkHtml = 'Like what you see? Visit the ' +\n",
              "            '<a target=\"_blank\" href=https://colab.research.google.com/notebooks/data_table.ipynb>data table notebook</a>'\n",
              "            + ' to learn more about interactive tables.';\n",
              "          element.innerHTML = '';\n",
              "          dataTable['output_type'] = 'display_data';\n",
              "          await google.colab.output.renderOutput(dataTable, element);\n",
              "          const docLink = document.createElement('div');\n",
              "          docLink.innerHTML = docLinkHtml;\n",
              "          element.appendChild(docLink);\n",
              "        }\n",
              "      </script>\n",
              "    </div>\n",
              "  </div>\n",
              "  "
            ]
          },
          "metadata": {},
          "execution_count": 16
        }
      ]
    },
    {
      "cell_type": "markdown",
      "source": [
        "Adding colors to the data frame"
      ],
      "metadata": {
        "id": "HYCjdpuR5KCj"
      }
    },
    {
      "cell_type": "code",
      "source": [
        "#https://pandas.pydata.org/pandas-docs/stable/user_guide/style.html\n",
        "\n",
        "cm = sns.light_palette(\"green\", as_cmap=True)\n",
        "s = df.style.background_gradient(cmap=cm)\n",
        "s"
      ],
      "metadata": {
        "colab": {
          "base_uri": "https://localhost:8080/",
          "height": 488
        },
        "id": "O4LdsgYp5DJm",
        "outputId": "4fcc51fe-e59b-48e9-871f-b427bf3d093d"
      },
      "execution_count": 17,
      "outputs": [
        {
          "output_type": "execute_result",
          "data": {
            "text/plain": [
              "<pandas.io.formats.style.Styler at 0x7fe824d9fb20>"
            ],
            "text/html": [
              "<style type=\"text/css\">\n",
              "#T_c7e2e_row0_col1, #T_c7e2e_row1_col1, #T_c7e2e_row3_col1 {\n",
              "  background-color: #379b37;\n",
              "  color: #f1f1f1;\n",
              "}\n",
              "#T_c7e2e_row2_col1 {\n",
              "  background-color: #ebf3eb;\n",
              "  color: #000000;\n",
              "}\n",
              "#T_c7e2e_row4_col1, #T_c7e2e_row12_col1 {\n",
              "  background-color: #0b850b;\n",
              "  color: #f1f1f1;\n",
              "}\n",
              "#T_c7e2e_row5_col1, #T_c7e2e_row11_col1 {\n",
              "  background-color: #219021;\n",
              "  color: #f1f1f1;\n",
              "}\n",
              "#T_c7e2e_row6_col1, #T_c7e2e_row7_col1, #T_c7e2e_row8_col1, #T_c7e2e_row9_col1 {\n",
              "  background-color: #168b16;\n",
              "  color: #f1f1f1;\n",
              "}\n",
              "#T_c7e2e_row10_col1 {\n",
              "  background-color: #008000;\n",
              "  color: #f1f1f1;\n",
              "}\n",
              "#T_c7e2e_row13_col1 {\n",
              "  background-color: #2c962c;\n",
              "  color: #f1f1f1;\n",
              "}\n",
              "</style>\n",
              "<table id=\"T_c7e2e\" class=\"dataframe\">\n",
              "  <thead>\n",
              "    <tr>\n",
              "      <th class=\"blank level0\" >&nbsp;</th>\n",
              "      <th id=\"T_c7e2e_level0_col0\" class=\"col_heading level0 col0\" >name</th>\n",
              "      <th id=\"T_c7e2e_level0_col1\" class=\"col_heading level0 col1\" >score</th>\n",
              "    </tr>\n",
              "  </thead>\n",
              "  <tbody>\n",
              "    <tr>\n",
              "      <th id=\"T_c7e2e_level0_row0\" class=\"row_heading level0 row0\" >0</th>\n",
              "      <td id=\"T_c7e2e_row0_col0\" class=\"data row0 col0\" >Nearest_Neighbors</td>\n",
              "      <td id=\"T_c7e2e_row0_col1\" class=\"data row0 col1\" >0.820000</td>\n",
              "    </tr>\n",
              "    <tr>\n",
              "      <th id=\"T_c7e2e_level0_row1\" class=\"row_heading level0 row1\" >1</th>\n",
              "      <td id=\"T_c7e2e_row1_col0\" class=\"data row1 col0\" >Linear_SVM</td>\n",
              "      <td id=\"T_c7e2e_row1_col1\" class=\"data row1 col1\" >0.820000</td>\n",
              "    </tr>\n",
              "    <tr>\n",
              "      <th id=\"T_c7e2e_level0_row2\" class=\"row_heading level0 row2\" >2</th>\n",
              "      <td id=\"T_c7e2e_row2_col0\" class=\"data row2 col0\" >Polynomial_SVM</td>\n",
              "      <td id=\"T_c7e2e_row2_col1\" class=\"data row2 col1\" >0.740000</td>\n",
              "    </tr>\n",
              "    <tr>\n",
              "      <th id=\"T_c7e2e_level0_row3\" class=\"row_heading level0 row3\" >3</th>\n",
              "      <td id=\"T_c7e2e_row3_col0\" class=\"data row3 col0\" >RBF_SVM</td>\n",
              "      <td id=\"T_c7e2e_row3_col1\" class=\"data row3 col1\" >0.820000</td>\n",
              "    </tr>\n",
              "    <tr>\n",
              "      <th id=\"T_c7e2e_level0_row4\" class=\"row_heading level0 row4\" >4</th>\n",
              "      <td id=\"T_c7e2e_row4_col0\" class=\"data row4 col0\" >Gaussian_Process</td>\n",
              "      <td id=\"T_c7e2e_row4_col1\" class=\"data row4 col1\" >0.840000</td>\n",
              "    </tr>\n",
              "    <tr>\n",
              "      <th id=\"T_c7e2e_level0_row5\" class=\"row_heading level0 row5\" >5</th>\n",
              "      <td id=\"T_c7e2e_row5_col0\" class=\"data row5 col0\" >Gradient_Boosting</td>\n",
              "      <td id=\"T_c7e2e_row5_col1\" class=\"data row5 col1\" >0.830000</td>\n",
              "    </tr>\n",
              "    <tr>\n",
              "      <th id=\"T_c7e2e_level0_row6\" class=\"row_heading level0 row6\" >6</th>\n",
              "      <td id=\"T_c7e2e_row6_col0\" class=\"data row6 col0\" >Decision_Tree</td>\n",
              "      <td id=\"T_c7e2e_row6_col1\" class=\"data row6 col1\" >0.835000</td>\n",
              "    </tr>\n",
              "    <tr>\n",
              "      <th id=\"T_c7e2e_level0_row7\" class=\"row_heading level0 row7\" >7</th>\n",
              "      <td id=\"T_c7e2e_row7_col0\" class=\"data row7 col0\" >Extra_Trees</td>\n",
              "      <td id=\"T_c7e2e_row7_col1\" class=\"data row7 col1\" >0.835000</td>\n",
              "    </tr>\n",
              "    <tr>\n",
              "      <th id=\"T_c7e2e_level0_row8\" class=\"row_heading level0 row8\" >8</th>\n",
              "      <td id=\"T_c7e2e_row8_col0\" class=\"data row8 col0\" >Random_Forest</td>\n",
              "      <td id=\"T_c7e2e_row8_col1\" class=\"data row8 col1\" >0.835000</td>\n",
              "    </tr>\n",
              "    <tr>\n",
              "      <th id=\"T_c7e2e_level0_row9\" class=\"row_heading level0 row9\" >9</th>\n",
              "      <td id=\"T_c7e2e_row9_col0\" class=\"data row9 col0\" >Neural_Net</td>\n",
              "      <td id=\"T_c7e2e_row9_col1\" class=\"data row9 col1\" >0.835000</td>\n",
              "    </tr>\n",
              "    <tr>\n",
              "      <th id=\"T_c7e2e_level0_row10\" class=\"row_heading level0 row10\" >10</th>\n",
              "      <td id=\"T_c7e2e_row10_col0\" class=\"data row10 col0\" >AdaBoost</td>\n",
              "      <td id=\"T_c7e2e_row10_col1\" class=\"data row10 col1\" >0.845000</td>\n",
              "    </tr>\n",
              "    <tr>\n",
              "      <th id=\"T_c7e2e_level0_row11\" class=\"row_heading level0 row11\" >11</th>\n",
              "      <td id=\"T_c7e2e_row11_col0\" class=\"data row11 col0\" >Naive_Bayes</td>\n",
              "      <td id=\"T_c7e2e_row11_col1\" class=\"data row11 col1\" >0.830000</td>\n",
              "    </tr>\n",
              "    <tr>\n",
              "      <th id=\"T_c7e2e_level0_row12\" class=\"row_heading level0 row12\" >12</th>\n",
              "      <td id=\"T_c7e2e_row12_col0\" class=\"data row12 col0\" >QDA</td>\n",
              "      <td id=\"T_c7e2e_row12_col1\" class=\"data row12 col1\" >0.840000</td>\n",
              "    </tr>\n",
              "    <tr>\n",
              "      <th id=\"T_c7e2e_level0_row13\" class=\"row_heading level0 row13\" >13</th>\n",
              "      <td id=\"T_c7e2e_row13_col0\" class=\"data row13 col0\" >SGD</td>\n",
              "      <td id=\"T_c7e2e_row13_col1\" class=\"data row13 col1\" >0.825000</td>\n",
              "    </tr>\n",
              "  </tbody>\n",
              "</table>\n"
            ]
          },
          "metadata": {},
          "execution_count": 17
        }
      ]
    },
    {
      "cell_type": "code",
      "source": [
        "sns.set(style=\"whitegrid\")\n",
        "ax = sns.barplot(y=\"name\", x=\"score\", data=df)"
      ],
      "metadata": {
        "colab": {
          "base_uri": "https://localhost:8080/",
          "height": 285
        },
        "id": "TIL-i7bj5Owg",
        "outputId": "e4385641-6679-4d39-f46c-ea0abd51b752"
      },
      "execution_count": 18,
      "outputs": [
        {
          "output_type": "display_data",
          "data": {
            "text/plain": [
              "<Figure size 432x288 with 1 Axes>"
            ],
            "image/png": "[encoded data removed]"
          },
          "metadata": {}
        }
      ]
    }
  ]
}